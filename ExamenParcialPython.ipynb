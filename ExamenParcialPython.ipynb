{
 "cells": [
  {
   "cell_type": "markdown",
   "metadata": {},
   "source": [
    "<img src=\"https://www.ikiam.edu.ec/img/logo-ikiam-grey.png\" width=300 height=240 />\n",
    "\n",
    "# EXAMEN PARCIAL PYTHON\n",
    "    \n",
    "\n",
    "## GBI6-2021II: BIOINFORMÁTICA\n",
    "\n",
    "**Gaibor Cobos Sarai Josabeth** \n",
    "**22-02-2021**"
   ]
  },
  {
   "cell_type": "markdown",
   "metadata": {},
   "source": [
    "### REQUERIMIENTOS PARA EL EXAMEN\n",
    "Para este examen se requiere dos documentos: \n",
    "\n",
    "1. Archivo ```miningscience.py``` donde tendrá dos funciones:\n",
    "\n",
    "2. Archivo ```2021II_GBI6_ExamenParcialPython``` donde se llamará las funciones y se obtendrá resultados."
   ]
  },
  {
   "cell_type": "markdown",
   "metadata": {},
   "source": [
    "## Ejercicio 1 [2 puntos]\n",
    "Cree el archivo ```miningscience.py``` con las siguientes dos funciones:\n",
    "    \n",
    "i. ```download_pubmed```: para descargar la data de PubMed utilizando el **ENTREZ** de Biopython. El parámetro de entrada para la función es el ```keyword```. \n",
    "    \n",
    "ii. ```mining_pubs```: esta función debe utilizar el módulo **re** y utilizar el párametro ```tipo``` para realizar lo siguiente:\n",
    "        \n",
    "* Si el tipo es \"DP\" recupera el año de publicación del artículo. El retorno es un *dataframe* con el **PMID** y el **DP_year**.\n",
    "      \n",
    "* Si el tipo es \"AU\" recupera el número de autores por **PMID**. El retorno es un *dataframe* con el **PMID** y el **num_auth**. \n",
    "      \n",
    "* Si el tipo es \"AD\" recupera el conteo de autores por país. El retorno es un *dataframe* con el **country** y el **num_auth**. \n",
    "\n",
    "* *Puede utilizar un ```if``` dentro de la función.* \n",
    "\n",
    "* *Cree un docstring para cada función.* \n",
    "\n",
    "Luego de crear las funciones, cargue el módulo ```miningscience``` como ```msc``` e imprima docstring de cada función.\n",
    "\n",
    "\n"
   ]
  },
  {
   "cell_type": "code",
   "execution_count": 1,
   "metadata": {},
   "outputs": [
    {
     "name": "stdout",
     "output_type": "stream",
     "text": [
      "Help on function download_pubmed in module miningscience:\n",
      "\n",
      "download_pubmed(keyword)\n",
      "\n",
      "Help on function mining_pubs in module miningscience:\n",
      "\n",
      "mining_pubs(tipo, archivo)\n",
      "\n"
     ]
    }
   ],
   "source": [
    "import miningscience as msc\n",
    "help(msc.download_pubmed)\n",
    "help(msc.mining_pubs)"
   ]
  },
  {
   "cell_type": "markdown",
   "metadata": {
    "tags": []
   },
   "source": [
    "\n",
    "## Ejercicio 2 [1 punto]\n",
    "\n",
    "\n",
    "Utilice la función ```download_pubmed``` para descargar la data con el keyword ```Ecuador genomics``` e imprima lo siguiente: \n",
    "\n",
    "```python\n",
    "'El número de artículos es: xx' # xx corresponde al número de artículos recuperados\n",
    "\n",
    "'El PMID del primer artículo es: xxxxxxxx' # xxxxxxxx corresponde al ID del artículo en PUDMED\n",
    "\n",
    "```"
   ]
  },
  {
   "cell_type": "code",
   "execution_count": 2,
   "metadata": {},
   "outputs": [
    {
     "name": "stdout",
     "output_type": "stream",
     "text": [
      "El número de artículos es:  193\n",
      "El PMID del primero artículo es:  PMID- 35121084\n",
      "\n"
     ]
    }
   ],
   "source": [
    "import miningscience\n",
    "import re\n",
    "iv=miningscience.download_pubmed('Ecuador genomics')\n",
    "b=re.findall(r'[DIMP]{4}\\-.*\\d\\n',iv)\n",
    "print ('El número de artículos es: ', len(b))\n",
    "print ('El PMID del primero artículo es: ',b[0])"
   ]
  },
  {
   "cell_type": "markdown",
   "metadata": {},
   "source": [
    "## Ejercicio 3 [1 punto]\n",
    "\n",
    "Utilice la función ```mining_pubs``` para crear los siguientes dataframes: \n",
    "\n",
    "* pub_year\n",
    "\n",
    "* pub_authors\n",
    "\n",
    "* coutries\n",
    "\n",
    "Muestre los dos primeros y los dos últimos registros de cada dataframe. "
   ]
  },
  {
   "cell_type": "code",
   "execution_count": 5,
   "metadata": {},
   "outputs": [
    {
     "name": "stdout",
     "output_type": "stream",
     "text": [
      "DataFrames de pub_year\n",
      "        PMID DP_year\n",
      "0   35121084    2022\n",
      "1   35120121    2022\n",
      "          PMID DP_year\n",
      "191   17187350    2007\n",
      "192    8661097    1996\n",
      " \n",
      "DataFrames de pub_authors\n",
      "        PMID  num_auth\n",
      "0   35121084        12\n",
      "1   35120121        14\n",
      "          PMID  num_auth\n",
      "191   17187350         1\n",
      "192    8661097         9\n",
      " \n",
      "DataFrames de countries\n",
      "                 Country  num_auth\n",
      "0                Andorra         1\n",
      "1  United Arab Emirates          6\n",
      "         Country  num_auth\n",
      "88         Samoa         1\n",
      "89  South Africa        29\n"
     ]
    }
   ],
   "source": [
    "print ('DataFrames de pub_year')\n",
    "fer=msc.mining_pubs('DP',iv)\n",
    "print(fer.head(2))\n",
    "print(fer.tail(2))\n",
    "print (' ')\n",
    "print ('DataFrames de pub_authors')\n",
    "fi=msc.mining_pubs('AU',iv)\n",
    "print(fi.head(2))\n",
    "print(fi.tail(2))\n",
    "print (' ')\n",
    "print ('DataFrames de countries')\n",
    "j=msc.mining_pubs('AD',iv)\n",
    "print(j.head(2))\n",
    "print(j.tail(2))"
   ]
  },
  {
   "cell_type": "markdown",
   "metadata": {
    "tags": []
   },
   "source": [
    "## Ejercicio 4 [2 puntos]\n",
    "\n",
    "Realice la visualización de los datos del ejercicio 3. \n",
    "\n",
    "* ```pubyear```: utilizando el conteo artículos por año, calcule la media y la desviación estandar (asumiendo que la distribución es normal). Realice un gráfico de la distribución normal de sus datos. Coloque el título, leyenda de los ejes \"x\" e \"y\", y la leyenda de la curva (utilice las expresiones matemáticas tipos latex de ser necesario). \n",
    "\n",
    "* ```pub_authors```: realice un boxplot del conteo de autores por artículo. Coloque las leyendas adecuadas para cada eje y el título.  \n",
    "\n",
    "* ```countries```: realice una nube de puntos (adaptación de su tarea), resalte al menos 3 países con flechas. Coloque las leyendas adecuadas para cada eje y el título. \n"
   ]
  },
  {
   "cell_type": "code",
   "execution_count": 7,
   "metadata": {},
   "outputs": [
    {
     "name": "stdout",
     "output_type": "stream",
     "text": [
      "Gráfica de distribución\n",
      "Conteo artículos por año : [8, 15, 14, 1, 1, 23, 1, 1, 1, 21, 1, 36, 22, 2, 40, 6]\n",
      "Promedio:  12.0625\n",
      "Desviación estandar:  12.631650476085854\n"
     ]
    },
    {
     "data": {
      "image/png": "[encoded data removed]",
      "text/plain": [
       "<Figure size 432x288 with 1 Axes>"
      ]
     },
     "metadata": {
      "needs_background": "light"
     },
     "output_type": "display_data"
    }
   ],
   "source": [
    "#Llamo a los paquetes que se van a utilizar para realizar la tabla y para graficar\n",
    "#para\n",
    "import pandas as pd\n",
    "import numpy as np\n",
    "import scipy.stats as stats\n",
    "import matplotlib.pyplot as plt\n",
    "import csv as csv\n",
    "\n",
    "#Gráfica de Distribución Normal \n",
    "print ('Gráfica de distribución')\n",
    "o = l.iloc[:,1]\n",
    "w = pd.Series(o)\n",
    "h = list(set(w))\n",
    "g=w\n",
    "f=h\n",
    "h=[0]*len(f)\n",
    "k=0\n",
    "for elem in f:\n",
    "    d=0\n",
    "    for comp in g:\n",
    "        if elem == str(comp):\n",
    "            d=d+1\n",
    "    h[k]=d\n",
    "    k=k+1\n",
    "print ('Conteo de artículos por año :',h)\n",
    "mean = np.average(h)\n",
    "print ('Promedio: ',mean)\n",
    "stan = np.std(h)\n",
    "print ('Desviación estandar: ',stan)\n",
    "x = np.linspace(mean - 3*stan, mean + 3*stan, 100)\n",
    "sigma = stan\n",
    "label = '$\\mu = %.1f, \\ \\sigma^2=%.1f$' %(mean, stan)\n",
    "y_norm = stats.norm.pdf(x, mean, sigma)\n",
    "plt.plot(x, y_norm, label=label, c = 'lightseagreen')\n",
    "plt.xlabel('N° publicaciones')\n",
    "plt.ylabel('Probabilidad N° publicaciones')\n",
    "plt.title('Conteo de artículos por año')\n",
    "plt.legend(title = \"param\")\n",
    "plt.show()"
   ]
  },
  {
   "cell_type": "markdown",
   "metadata": {},
   "source": [
    "## Ejercicio 5 [1 punto]\n",
    "\n",
    "Interprete los resultados del **ejercicio 4**"
   ]
  },
  {
   "cell_type": "markdown",
   "metadata": {},
   "source": [
    "### Escriba la respuesta del ejercicio 5\n"
   ]
  },
  {
   "cell_type": "markdown",
   "metadata": {},
   "source": [
    "## Ejercicio 6 [2 puntos]\n",
    "\n",
    "Para algún gen de interés, realice lo siguiente: \n",
    "\n",
    "1. Una búsqueda en la página del [NCBI nucleotide](https://www.ncbi.nlm.nih.gov/nucleotide/).\n",
    "\n",
    "2. Descargue el ```Accession List``` de su búsqueda.\n",
    "\n",
    "3. Cargue el ```Accession List``` en este notebook y haga una descarga de la data tipo ```genbank``` utilizando los diez primeros IDs de accesión. \n",
    "\n",
    "4. Arme un árbol filogenético para los resultados del paso 3.\n",
    "\n",
    "5. Interprete el árbol del paso 4. "
   ]
  },
  {
   "cell_type": "code",
   "execution_count": 3,
   "metadata": {},
   "outputs": [
    {
     "name": "stdout",
     "output_type": "stream",
     "text": [
      "\"C:\\Program Files (x86)\\ClustalW2\\clustalw2.exe\" -infile=Data/staphy_ft.fasta\n",
      "Alignment with 10 rows and 1535 columns\n",
      "TAGTGGTTTGAGTTACTCCTCTGCTCAGGATGAACGCTGGCGGC...--- HG326658.1Staphylococcus\n",
      "-----------------------------------TCGAGCTG-...--- HG326657.1Staphylococcus\n",
      "--------------------------AGGATGAACGCTGGCGGC...--- D83363.1Staphylococcus\n",
      "----------------------------GATGAACGCTGGCGGC...--- L37605.1Staphylococcus\n",
      "--------------------------AGGATGAACGCTGGCGGC...--- FR775755.1Staphylococcus\n",
      "--------------------------AGGATGAACGCTGGCGGC...--- D83362.1Staphylococcus\n",
      "----------------------------GATGAACGCTGGCGGC...--- LC654888.1Staphylococcus\n",
      "--------------------------AGGATGAACGCTGGCGGC...--- FR775756.1Staphylococcus\n",
      "----------------------------GATGAACGCTGGCGGC...AGG LN681574.1Staphylococcus\n",
      "--------------------------------------------...--- U02913.1Staphylococcus\n",
      "     , D83363.1Staphylococcus\n",
      "   __|\n",
      "  |  |   __________ HG326658.1Staphylococcus\n",
      " ,|  |__|\n",
      " ||     |________ HG326657.1Staphylococcus\n",
      " ||\n",
      " || L37605.1Staphylococcus\n",
      " |\n",
      " , D83362.1Staphylococcus\n",
      " |\n",
      "_|  , LC654888.1Staphylococcus\n",
      " |__|\n",
      " |  |   , FR775756.1Staphylococcus\n",
      " |  |___|\n",
      " |      |             ______________________________ U02913.1Staphylococcus\n",
      " |      |____________|\n",
      " |                   | LN681574.1Staphylococcus\n",
      " |\n",
      " | FR775755.1Staphylococcus\n",
      "\n",
      "<class 'Bio.Align.MultipleSeqAlignment'>\n",
      "HG326658.1Staphylococcus\t0\n",
      "HG326657.1Staphylococcus\t0.06644951140065147\t0\n",
      "D83363.1Staphylococcus\t0.49315960912052115\t0.4684039087947883\t0\n",
      "L37605.1Staphylococcus\t0.4912052117263843\t0.463843648208469\t0.005211726384364845\t0\n",
      "FR775755.1Staphylococcus\t0.49641693811074916\t0.47166123778501634\t0.005863192182410382\t0.009771986970684043\t0\n",
      "D83362.1Staphylococcus\t0.49641693811074916\t0.47166123778501634\t0.005211726384364845\t0.009120521172638396\t0.0006514657980456473\t0\n",
      "LC654888.1Staphylococcus\t0.49446254071661233\t0.46710097719869703\t0.0013029315960911836\t0.003908794788273662\t0.007166123778501676\t0.006514657980456029\t0\n",
      "FR775756.1Staphylococcus\t0.49446254071661233\t0.4697068403908795\t0.001954397394136831\t0.007166123778501676\t0.007817589576547213\t0.007166123778501676\t0.0032573289902280145\t0\n",
      "LN681574.1Staphylococcus\t0.5140065146579804\t0.4866449511400651\t0.02084690553745927\t0.02345276872964175\t0.026710097719869652\t0.026058631921824116\t0.019543973941368087\t0.0228013029315961\t0\n",
      "U02913.1Staphylococcus\t0.3921824104234528\t0.393485342019544\t0.8436482084690554\t0.8390879478827362\t0.8429967426710098\t0.8429967426710098\t0.8423452768729642\t0.844299674267101\t0.8618892508143322\t0\n",
      "\tHG326658.1Staphylococcus\tHG326657.1Staphylococcus\tD83363.1Staphylococcus\tL37605.1Staphylococcus\tFR775755.1Staphylococcus\tD83362.1Staphylococcus\tLC654888.1Staphylococcus\tFR775756.1Staphylococcus\tLN681574.1Staphylococcus\tU02913.1Staphylococcus\n"
     ]
    }
   ],
   "source": [
    "#Cargo mi data en mi notebook \n",
    "#Se tomó desde el segundo ID porque al tomar el primero la cadena me presentaba problemas y no me permitía \n",
    "#correr el código correctamente.\n",
    "from Bio import SeqIO \n",
    "from Bio import AlignIO\n",
    "from Bio import Phylo\n",
    "\n",
    "with open (\"Data/staphy.seq\",\"r\") :\n",
    "    IDs = [\"D83363.1\",\"D83362.1\",\"L37605.1\",\"LC654888.1\",\"FR775756.1\",\"FR775755.1\",\"U02913.1\",\"LN681574.1\",\"HG326658.1\",\"HG326657.1\"]\n",
    "from Bio import Entrez      \n",
    "from Bio import Entrez\n",
    "#Enlazo con la pag NCBI con los IDs requeridos.\n",
    "#llamos los datos de interes, lo que obtenga lo guardaré en un archivo .gb\n",
    "Entrez.email = \"sarai_nj27@hotmail.com\" \n",
    "ofile = open('Data/staphy_gb.gb','w')\n",
    "with Entrez.efetch( db=\"nucleotide\", rettype=\"gb\", retmode=\"text\", id= IDs) as handle:\n",
    "    for seq_record in SeqIO.parse(handle, \"gb\"): \n",
    "         ofile.write(\">\"+str(seq_record.id)+str(seq_record.description[:50])+'\\n')\n",
    "         ofile.write(str(seq_record.seq)+'\\n')\n",
    "         ofile.write('\\n')\n",
    "#lo pongo en un archivo .fasta \n",
    "archivo_1=open('Data/staphy_ft.fasta','w')\n",
    "with open(\"Data/staphy_gb.gb\",'r') as genbank: \n",
    "    d=genbank.read()\n",
    "    for line in d:\n",
    "        archivo_1.write(str(line))\n",
    "#Para alineamiento de secuencia \n",
    "from Bio.Align.Applications import ClustalwCommandline\n",
    "import os\n",
    "clustalw_exe = r\"C:\\Program Files (x86)\\ClustalW2\\clustalw2.exe\"\n",
    "clustalw_cline = ClustalwCommandline(clustalw_exe, infile = \"Data/staphy_ft.fasta\")\n",
    "assert os.path.isfile(clustalw_exe), \"Clustal_W executable is missing or not found\"\n",
    "stdout, stderr = clustalw_cline()\n",
    "print(clustalw_cline)\n",
    "# Leer alineamiento\n",
    "ClustalAlign = AlignIO.read(\"data/staphy_ft.aln\", \"clustal\")\n",
    "print(ClustalAlign)\n",
    "# Generar Dendogram (Tree)\n",
    "from Bio import Phylo\n",
    "tree = Phylo.read(\"data/staphy_ft.dnd\", \"newick\")\n",
    "Phylo.draw_ascii(tree)\n",
    "#Para la construcción del árbol \n",
    "#Cargo mi alineamiento\n",
    "# cargar alineamiento \n",
    "with open(\"data/staphy_ft.aln\",\"r\") as aln: \n",
    "    alignment = AlignIO.read(aln,\"clustal\")\n",
    "print(type(alignment))\n",
    "\n",
    "# Inicializar la calculadora de Distancias y del modelo \n",
    "from Bio.Phylo.TreeConstruction import DistanceCalculator \n",
    "calculator = DistanceCalculator('identity')\n",
    "\n",
    "# Matriz de Distancias \n",
    "distance_matrix = calculator.get_distance(alignment)\n",
    "print(distance_matrix)\n"
   ]
  },
  {
   "cell_type": "code",
   "execution_count": 25,
   "metadata": {},
   "outputs": [
    {
     "name": "stdout",
     "output_type": "stream",
     "text": [
      "Tree(rooted=True)\n",
      "    Clade(branch_length=0, name='Inner8')\n",
      "        Clade(branch_length=0.0005191368078175801, name='Inner7')\n",
      "            Clade(branch_length=0.0007837947882736035, name='Inner5')\n",
      "                Clade(branch_length=0.019543973941368076, name='LN681574.1Staphylococcus')\n",
      "                Clade(branch_length=1.0408340855860843e-17, name='LC654888.1Staphylococcus')\n",
      "            Clade(branch_length=0.0005191368078176009, name='Inner6')\n",
      "                Clade(branch_length=0.004519543973941336, name='Inner3')\n",
      "                    Clade(branch_length=5.4288816503822446e-05, name='D83362.1Staphylococcus')\n",
      "                    Clade(branch_length=0.0005971769815418249, name='FR775755.1Staphylococcus')\n",
      "                Clade(branch_length=0.00297231270358308, name='Inner4')\n",
      "                    Clade(branch_length=0.0007980456026059346, name='L37605.1Staphylococcus')\n",
      "                    Clade(branch_length=0.44871335504885984, name='Inner2')\n",
      "                        Clade(branch_length=0.018869241507677964, name='Inner1')\n",
      "                            Clade(branch_length=0.3688517915309447, name='U02913.1Staphylococcus')\n",
      "                            Clade(branch_length=0.023330618892508093, name='HG326658.1Staphylococcus')\n",
      "                        Clade(branch_length=0.015006979990693364, name='HG326657.1Staphylococcus')\n",
      "        Clade(branch_length=5.0895765472316196e-05, name='D83363.1Staphylococcus')\n",
      "        Clade(branch_length=0.0019035016286645147, name='FR775756.1Staphylococcus')\n"
     ]
    },
    {
     "data": {
      "image/png": "[encoded data removed]",
      "text/plain": [
       "<Figure size 750x1500 with 2 Axes>"
      ]
     },
     "metadata": {
      "needs_background": "light"
     },
     "output_type": "display_data"
    }
   ],
   "source": [
    "# Inicializar el constructor del arbol \n",
    "from Bio.Phylo.TreeConstruction import DistanceTreeConstructor\n",
    "constructor = DistanceTreeConstructor(calculator)\n",
    "# Construir el arbol \n",
    "staphy1_tree = constructor.build_tree(alignment)\n",
    "staphy1_tree.rooted = True\n",
    "print(staphy1_tree)\n",
    "# Guardar el arbol \n",
    "Phylo.write(staphy1_tree, \"data/staphy_tree.xml\", \"phyloxml\")\n",
    "\n",
    "staphy1_tree = Phylo.read(file=\"data/staphy_tree.xml\", format= \"phyloxml\")\n",
    "\n",
    "# Arbol  en Matplotlib\n",
    "import matplotlib\n",
    "import matplotlib.pyplot as plt\n",
    "\n",
    "#Para tener eficiente visualización se utiliza el siguiente código \n",
    "fig = plt.figure(figsize=(10, 20), dpi=75) \n",
    "matplotlib.rc('font', size=12)              \n",
    "matplotlib.rc('xtick', labelsize=10)       \n",
    "matplotlib.rc('ytick', labelsize=10) \n",
    "plt.title(\"Árbol filogenético\")   # Establece el título del gráfico\n",
    "\n",
    "axes = fig.add_subplot(1, 1, 1)\n",
    "Phylo.draw(staphy1_tree, axes=axes)\n",
    "fig.savefig(\"data/staphy_cladogram.png\")\n"
   ]
  },
  {
   "cell_type": "markdown",
   "metadata": {},
   "source": [
    "**Escriba aquí la interpretación del árbol**"
   ]
  },
  {
   "cell_type": "markdown",
   "metadata": {},
   "source": [
    "## Ejercicio 7 [1 punto]\n",
    "\n",
    "\n",
    "1. Cree en GitHub un repositorio de nombre ```GBI6_ExamenPython```. \n",
    "2. Cree un archivo ```Readme.md``` que debe tener lo siguiente: \n",
    "- Datos personales\n",
    "- Características del computador\n",
    "- Versión de Python/Anaconda y de cada uno de los módulos/paquetes y utilizados\n",
    "- Explicación de la data utilizada\n",
    "\n",
    "3. Cree un directorio de nombre ```data``` donde deben estar guardado la data utilizada \n",
    "4. Realice al menos 1 control de la versión (commits) por cada ejercicio (del 1 al 6), con un mensaje que inicie como: \n",
    "\n",
    "```sh \n",
    "Carlitos Alimaña ha realizado .....  \n",
    "```"
   ]
  }
 ],
 "metadata": {
  "kernelspec": {
   "display_name": "Python 3 (ipykernel)",
   "language": "python",
   "name": "python3"
  },
  "language_info": {
   "codemirror_mode": {
    "name": "ipython",
    "version": 3
   },
   "file_extension": ".py",
   "mimetype": "text/x-python",
   "name": "python",
   "nbconvert_exporter": "python",
   "pygments_lexer": "ipython3",
   "version": "3.9.7"
  },
  "latex_envs": {
   "LaTeX_envs_menu_present": true,
   "autoclose": false,
   "autocomplete": true,
   "bibliofile": "biblio.bib",
   "cite_by": "apalike",
   "current_citInitial": 1,
   "eqLabelWithNumbers": true,
   "eqNumInitial": 1,
   "hotkeys": {
    "equation": "Ctrl-E",
    "itemize": "Ctrl-I"
   },
   "labels_anchors": false,
   "latex_user_defs": false,
   "report_style_numbering": false,
   "user_envs_cfg": false
  },
  "toc": {
   "base_numbering": 1,
   "nav_menu": {},
   "number_sections": true,
   "sideBar": false,
   "skip_h1_title": false,
   "title_cell": "Table of Contents",
   "title_sidebar": "Contents",
   "toc_cell": false,
   "toc_position": {
    "height": "1152.67px",
    "left": "41px",
    "top": "110px",
    "width": "253.458px"
   },
   "toc_section_display": true,
   "toc_window_display": false
  },
  "varInspector": {
   "cols": {
    "lenName": 16,
    "lenType": 16,
    "lenVar": 40
   },
   "kernels_config": {
    "python": {
     "delete_cmd_postfix": "",
     "delete_cmd_prefix": "del ",
     "library": "var_list.py",
     "varRefreshCmd": "print(var_dic_list())"
    },
    "r": {
     "delete_cmd_postfix": ") ",
     "delete_cmd_prefix": "rm(",
     "library": "var_list.r",
     "varRefreshCmd": "cat(var_dic_list()) "
    }
   },
   "types_to_exclude": [
    "module",
    "function",
    "builtin_function_or_method",
    "instance",
    "_Feature"
   ],
   "window_display": false
  }
 },
 "nbformat": 4,
 "nbformat_minor": 4
}
